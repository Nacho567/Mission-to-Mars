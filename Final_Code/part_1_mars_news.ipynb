{
 "cells": [
  {
   "cell_type": "markdown",
   "metadata": {},
   "source": [
    "# Module 12 Challenge\n",
    "## Deliverable 1: Scrape Titles and Preview Text from Mars News"
   ]
  },
  {
   "cell_type": "code",
   "execution_count": 2,
   "metadata": {},
   "outputs": [],
   "source": [
    "# Import Splinter and BeautifulSoup\n",
    "from splinter import Browser\n",
    "from bs4 import BeautifulSoup as soup\n",
    "from webdriver_manager.chrome import ChromeDriverManager"
   ]
  },
  {
   "cell_type": "code",
   "execution_count": 3,
   "metadata": {
    "scrolled": true
   },
   "outputs": [
    {
     "name": "stderr",
     "output_type": "stream",
     "text": [
      "[WDM] - Downloading: 100%|████████████████████████████████████████████████████████| 6.78M/6.78M [00:00<00:00, 22.4MB/s]\n"
     ]
    }
   ],
   "source": [
    "executable_path = {'executable_path': ChromeDriverManager().install()}\n",
    "browser = Browser('chrome', **executable_path, headless=False)"
   ]
  },
  {
   "cell_type": "markdown",
   "metadata": {},
   "source": [
    "### Step 1: Visit the Website\n",
    "\n",
    "1. Use automated browsing to visit the [Mars NASA news site](https://redplanetscience.com). Inspect the page to identify which elements to scrape.\n",
    "\n",
    "      > **Hint** To identify which elements to scrape, you might want to inspect the page by using Chrome DevTools."
   ]
  },
  {
   "cell_type": "code",
   "execution_count": 4,
   "metadata": {},
   "outputs": [
    {
     "data": {
      "text/plain": [
       "True"
      ]
     },
     "execution_count": 4,
     "metadata": {},
     "output_type": "execute_result"
    }
   ],
   "source": [
    "# Visit the Mars NASA news site: https://redplanetscience.com\n",
    "url = 'https://redplanetscience.com'\n",
    "browser.visit(url)\n",
    "browser.is_element_present_by_css('div.list_text', wait_time=1)"
   ]
  },
  {
   "cell_type": "markdown",
   "metadata": {},
   "source": [
    "### Step 2: Scrape the Website\n",
    "\n",
    "Create a Beautiful Soup object and use it to extract text elements from the website."
   ]
  },
  {
   "cell_type": "code",
   "execution_count": 5,
   "metadata": {},
   "outputs": [],
   "source": [
    "# Create a Beautiful Soup object\n",
    "html = browser.html\n",
    "soup = soup(html, 'html.parser')"
   ]
  },
  {
   "cell_type": "code",
   "execution_count": 6,
   "metadata": {},
   "outputs": [],
   "source": [
    "# Extract all the text elements\n",
    "all_text = soup.select('div.list_text')"
   ]
  },
  {
   "cell_type": "markdown",
   "metadata": {},
   "source": [
    "### Step 3: Store the Results\n",
    "\n",
    "Extract the titles and preview text of the news articles that you scraped. Store the scraping results in Python data structures as follows:\n",
    "\n",
    "* Store each title-and-preview pair in a Python dictionary. And, give each dictionary two keys: `title` and `preview`. An example is the following:\n",
    "\n",
    "  ```python\n",
    "  {'title': \"Mars Rover Begins Mission!\", \n",
    "        'preview': \"NASA's Mars Rover begins a multiyear mission to collect data about the little-explored planet.\"}\n",
    "  ```\n",
    "\n",
    "* Store all the dictionaries in a Python list.\n",
    "\n",
    "* Print the list in your notebook."
   ]
  },
  {
   "cell_type": "code",
   "execution_count": 7,
   "metadata": {},
   "outputs": [],
   "source": [
    "# Create an empty list to store the dictionaries\n",
    "list_results = []"
   ]
  },
  {
   "cell_type": "code",
   "execution_count": 8,
   "metadata": {},
   "outputs": [],
   "source": [
    "# Loop through the text elements\n",
    "# Extract the title and preview text from the elements\n",
    "# Store each title and preview pair in a dictionary\n",
    "# Add the dictionary to the list\n",
    "for text in all_text:\n",
    "    results = {}\n",
    "    results['title'] = text.find('div', class_='content_title').text\n",
    "    results['preview'] = text.find('div', class_='article_teaser_body').text.strip()\n",
    "    list_results.append(results)"
   ]
  },
  {
   "cell_type": "code",
   "execution_count": 9,
   "metadata": {},
   "outputs": [
    {
     "name": "stdout",
     "output_type": "stream",
     "text": [
      "[{'title': \"NASA's Perseverance Rover Attached to Atlas V Rocket\", 'preview': 'Ready for its launch later in the month, the Mars-bound rover will touch terra firma no more.'}, {'title': \"NASA's Mars 2020 Rover Closer to Getting Its Name\", 'preview': \"155 students from across the U.S. have been chosen as semifinalists in NASA's essay contest to name the Mars 2020 rover, and see it launch from Cape Canaveral this July.\"}, {'title': 'NASA Perseverance Mars Rover Scientists Train in the Nevada Desert', 'preview': \"Team members searched for signs of ancient microscopic life there, just as NASA's latest rover will on the Red Planet next year.\"}, {'title': \"6 Things to Know About NASA's Ingenuity Mars Helicopter\", 'preview': 'The first helicopter attempting to fly on another planet is a marvel of engineering. Get up to speed with these key facts about its plans.'}, {'title': 'MAVEN Maps Electric Currents around Mars that are Fundamental to Atmospheric Loss', 'preview': 'Five years after NASA’s MAVEN spacecraft entered into orbit around Mars, data from the mission has led to the creation of a map of electric current systems in the Martian atmosphere.'}, {'title': \"NASA's Briefcase-Size MarCO Satellite Picks Up Honors\", 'preview': 'The twin spacecraft, the first of their kind to fly into deep space, earn a Laureate from Aviation Week & Space Technology.'}, {'title': \"NASA's MAVEN Observes Martian Night Sky Pulsing in Ultraviolet Light\", 'preview': 'Vast areas of the Martian night sky pulse in ultraviolet light, according to images from NASA’s MAVEN spacecraft. The results are being used to illuminate complex circulation patterns in the Martian atmosphere.'}, {'title': \"The Extraordinary Sample-Gathering System of NASA's Perseverance Mars Rover\", 'preview': 'Two astronauts collected Moon rocks on Apollo 11. It will take three robotic systems working together to gather up the first Mars rock samples for return to Earth.'}, {'title': \"Deadline Closing for Names to Fly on NASA's Next Mars Rover\", 'preview': 'You have until Sept. 30 to send your names to Mars aboard the Mars 2020 rover.'}, {'title': \"InSight's 'Mole' Team Peers into the Pit\", 'preview': 'Efforts to save the heat probe continue.'}, {'title': \"Mars Helicopter Attached to NASA's Perseverance Rover\", 'preview': \"The team also fueled the rover's sky crane to get ready for this summer's history-making launch.\"}, {'title': 'MOXIE Could Help Future Rockets Launch Off Mars', 'preview': \"NASA's Perseverance rover carries a device to convert Martian air into oxygen that, if produced on a larger scale, could be used not just for breathing, but also for fuel.\"}, {'title': 'My Culture, My Voice', 'preview': 'In honor of Hispanic Heritage Month, Christina Hernandez, an instrument engineer on the Mars 2020 mission, talks about her childhood and journey to NASA.'}, {'title': 'NASA Establishes Board to Initially Review Mars Sample Return Plans', 'preview': 'The board will assist with analysis of current plans and goals for one of the most difficult missions humanity has ever undertaken.'}, {'title': \"Celebrate Mars Reconnaissance Orbiter's Views From Above\", 'preview': 'Marking its 15th anniversary since launch, one of the oldest spacecraft at the Red Planet has provided glimpses of dust devils, avalanches, and more.'}]\n",
      "[{'title': \"NASA's Perseverance Rover Attached to Atlas V Rocket\", 'preview': 'Ready for its launch later in the month, the Mars-bound rover will touch terra firma no more.'}, {'title': \"NASA's Mars 2020 Rover Closer to Getting Its Name\", 'preview': \"155 students from across the U.S. have been chosen as semifinalists in NASA's essay contest to name the Mars 2020 rover, and see it launch from Cape Canaveral this July.\"}, {'title': 'NASA Perseverance Mars Rover Scientists Train in the Nevada Desert', 'preview': \"Team members searched for signs of ancient microscopic life there, just as NASA's latest rover will on the Red Planet next year.\"}, {'title': \"6 Things to Know About NASA's Ingenuity Mars Helicopter\", 'preview': 'The first helicopter attempting to fly on another planet is a marvel of engineering. Get up to speed with these key facts about its plans.'}, {'title': 'MAVEN Maps Electric Currents around Mars that are Fundamental to Atmospheric Loss', 'preview': 'Five years after NASA’s MAVEN spacecraft entered into orbit around Mars, data from the mission has led to the creation of a map of electric current systems in the Martian atmosphere.'}, {'title': \"NASA's Briefcase-Size MarCO Satellite Picks Up Honors\", 'preview': 'The twin spacecraft, the first of their kind to fly into deep space, earn a Laureate from Aviation Week & Space Technology.'}, {'title': \"NASA's MAVEN Observes Martian Night Sky Pulsing in Ultraviolet Light\", 'preview': 'Vast areas of the Martian night sky pulse in ultraviolet light, according to images from NASA’s MAVEN spacecraft. The results are being used to illuminate complex circulation patterns in the Martian atmosphere.'}, {'title': \"The Extraordinary Sample-Gathering System of NASA's Perseverance Mars Rover\", 'preview': 'Two astronauts collected Moon rocks on Apollo 11. It will take three robotic systems working together to gather up the first Mars rock samples for return to Earth.'}, {'title': \"Deadline Closing for Names to Fly on NASA's Next Mars Rover\", 'preview': 'You have until Sept. 30 to send your names to Mars aboard the Mars 2020 rover.'}, {'title': \"InSight's 'Mole' Team Peers into the Pit\", 'preview': 'Efforts to save the heat probe continue.'}, {'title': \"Mars Helicopter Attached to NASA's Perseverance Rover\", 'preview': \"The team also fueled the rover's sky crane to get ready for this summer's history-making launch.\"}, {'title': 'MOXIE Could Help Future Rockets Launch Off Mars', 'preview': \"NASA's Perseverance rover carries a device to convert Martian air into oxygen that, if produced on a larger scale, could be used not just for breathing, but also for fuel.\"}, {'title': 'My Culture, My Voice', 'preview': 'In honor of Hispanic Heritage Month, Christina Hernandez, an instrument engineer on the Mars 2020 mission, talks about her childhood and journey to NASA.'}, {'title': 'NASA Establishes Board to Initially Review Mars Sample Return Plans', 'preview': 'The board will assist with analysis of current plans and goals for one of the most difficult missions humanity has ever undertaken.'}, {'title': \"Celebrate Mars Reconnaissance Orbiter's Views From Above\", 'preview': 'Marking its 15th anniversary since launch, one of the oldest spacecraft at the Red Planet has provided glimpses of dust devils, avalanches, and more.'}]\n"
     ]
    }
   ],
   "source": [
    "# Print the list to confirm success\n",
    "for result in results:\n",
    "    print(list_results)"
   ]
  },
  {
   "cell_type": "code",
   "execution_count": 10,
   "metadata": {},
   "outputs": [],
   "source": [
    "browser.quit()"
   ]
  },
  {
   "cell_type": "markdown",
   "metadata": {},
   "source": [
    "### (Optional) Step 4: Export the Data\n",
    "\n",
    "Optionally, store the scraped data in a file or database (to ease sharing the data with others). To do so, export the scraped data to either a JSON file or a MongoDB database."
   ]
  },
  {
   "cell_type": "code",
   "execution_count": 12,
   "metadata": {},
   "outputs": [],
   "source": [
    "# Export data to JSON\n",
    "import json\n",
    "\n",
    "with open(\"mars_news.json\", \"w\") as outfile:\n",
    "    json.dump(list_results, outfile)"
   ]
  },
  {
   "cell_type": "code",
   "execution_count": null,
   "metadata": {},
   "outputs": [],
   "source": [
    "# Export data to MongoDB\n"
   ]
  }
 ],
 "metadata": {
  "kernelspec": {
   "display_name": "Python 3 (ipykernel)",
   "language": "python",
   "name": "python3"
  },
  "language_info": {
   "codemirror_mode": {
    "name": "ipython",
    "version": 3
   },
   "file_extension": ".py",
   "mimetype": "text/x-python",
   "name": "python",
   "nbconvert_exporter": "python",
   "pygments_lexer": "ipython3",
   "version": "3.7.16"
  }
 },
 "nbformat": 4,
 "nbformat_minor": 4
}
